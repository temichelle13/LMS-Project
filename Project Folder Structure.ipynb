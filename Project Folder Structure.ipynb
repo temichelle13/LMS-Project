{
 "cells": [
  {
   "cell_type": "code",
   "execution_count": null,
   "id": "f286aea8-8029-4751-a5e8-053ca57b2070",
   "metadata": {},
   "outputs": [],
   "source": [
    "/learning_management_system\n",
    "    /app\n",
    "        __init__.py\n",
    "        /models\n",
    "            __init__.py\n",
    "            user.py\n",
    "            course.py\n",
    "            assignment.py\n",
    "            grade.py\n",
    "            certificate.py\n",
    "            project.py\n",
    "        /services\n",
    "            __init__.py\n",
    "            authentication.py\n",
    "            course_management.py\n",
    "            assignment_management.py\n",
    "            grade_tracking.py\n",
    "            certification_management.py\n",
    "            project_tracking.py\n",
    "            calendar_integration.py\n",
    "            analytics.py\n",
    "        /utilities\n",
    "            __init__.py\n",
    "            email_service.py\n",
    "            notification_service.py\n",
    "    /tests\n",
    "        __init__.py\n",
    "        /unit_tests\n",
    "        /integration_tests\n",
    "    /migrations\n",
    "        __init__.py\n",
    "    requirements.txt\n",
    "    config.py\n",
    "    run.py\n"
   ]
  }
 ],
 "metadata": {
  "kernelspec": {
   "display_name": "anaconda-panel-2023.05-py310",
   "language": "python",
   "name": "conda-env-anaconda-panel-2023.05-py310-py"
  },
  "language_info": {
   "codemirror_mode": {
    "name": "ipython",
    "version": 3
   },
   "file_extension": ".py",
   "mimetype": "text/x-python",
   "name": "python",
   "nbconvert_exporter": "python",
   "pygments_lexer": "ipython3",
   "version": "3.11.5"
  }
 },
 "nbformat": 4,
 "nbformat_minor": 5
}
